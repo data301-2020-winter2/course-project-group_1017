{
 "cells": [
  {
   "cell_type": "code",
   "execution_count": null,
   "id": "brutal-palmer",
   "metadata": {},
   "outputs": [],
   "source": [
    "import pandas as pd\n",
    "import seaborn as sns\n",
    "import os\n",
    "import sys\n",
    "module_path = os.path.abspath(os.path.join('.'))\n",
    "if module_path not in sys.path:\n",
    "    sys.path.append(module_path)\n",
    "import project_functions\n",
    "url='https://raw.githubusercontent.com/data301-2020-winter2/course-project-group_1017/main/Data/Raw/medical_expenses.csv'"
   ]
  },
  {
   "cell_type": "markdown",
   "id": "fossil-backup",
   "metadata": {},
   "source": [
    "Our original data set is given below"
   ]
  },
  {
   "cell_type": "code",
   "execution_count": null,
   "id": "disabled-comparative",
   "metadata": {},
   "outputs": [],
   "source": [
    "dfo=pd.read_csv(url)\n",
    "dfo"
   ]
  },
  {
   "cell_type": "markdown",
   "id": "chronic-harbor",
   "metadata": {},
   "source": [
    "This data set is describing expected medical costs in America based on other variables, it is from Machine Learning with R by Brett Lantz. This dataset is pretty clean but I will do some wrangling to it so it can be better used for analysis. From this dataset I would like to be able to answer how unhealthy life styles such as under or over average bmi and smoking effect medical charges of an individual and to what extent these factors play a roll in expected charges of an individual "
   ]
  },
  {
   "cell_type": "markdown",
   "id": "certified-spanking",
   "metadata": {},
   "source": [
    "**Data Wrangling**\n",
    "---"
   ]
  },
  {
   "cell_type": "markdown",
   "id": "exotic-silly",
   "metadata": {},
   "source": [
    "---"
   ]
  },
  {
   "cell_type": "markdown",
   "id": "special-anderson",
   "metadata": {},
   "source": [
    "First I would like to add some columns to this dataset and change some of the variable names to better suit the variable it is representing"
   ]
  },
  {
   "cell_type": "code",
   "execution_count": null,
   "id": "matched-edmonton",
   "metadata": {},
   "outputs": [],
   "source": [
    "df=project_functions.load_and_process(url)\n",
    "df"
   ]
  },
  {
   "cell_type": "markdown",
   "id": "radio-offering",
   "metadata": {},
   "source": [
    "Here i dropped the children and the region column as they wont be used in further analysis so they are redundant and I rounded the bmi amd charges to values that are more commonly used."
   ]
  },
  {
   "cell_type": "code",
   "execution_count": null,
   "id": "medieval-might",
   "metadata": {},
   "outputs": [],
   "source": [
    "project_functions.mean(df)"
   ]
  },
  {
   "cell_type": "markdown",
   "id": "micro-horse",
   "metadata": {},
   "source": [
    "Taking a mean of the charges column returns a value of 13270.42 which we used to determine if the patient is given excessive charges which means they pay out more than expected on average. Next i want to seperate the data sets into healthy and not healthy populations to see how excessive charges changes throughout the population"
   ]
  },
  {
   "cell_type": "code",
   "execution_count": null,
   "id": "coordinated-oriental",
   "metadata": {},
   "outputs": [],
   "source": [
    "dfh = project_functions.Health(url)\n",
    "dfun =project_functions.unHealth(url)"
   ]
  },
  {
   "cell_type": "code",
   "execution_count": null,
   "id": "noble-aberdeen",
   "metadata": {},
   "outputs": [],
   "source": [
    "dfh"
   ]
  },
  {
   "cell_type": "markdown",
   "id": "parallel-seller",
   "metadata": {},
   "source": [
    "Here is the data set for healthy people, the requirements for this was to be in healthy bmi range of 18.5-24.9 and to not be a smoker."
   ]
  },
  {
   "cell_type": "code",
   "execution_count": null,
   "id": "fresh-teacher",
   "metadata": {},
   "outputs": [],
   "source": [
    "dfun"
   ]
  },
  {
   "cell_type": "markdown",
   "id": "accurate-turning",
   "metadata": {},
   "source": [
    "Here is the data set for unhealthy people the requirments are the inverse of the healthy data set thus they have to be outside the healthy bmi range or be classified as a smoker. We can first look at some regression plots of age vs charges to see how having a unhealthy lifestyle effects the charges"
   ]
  },
  {
   "cell_type": "markdown",
   "id": "minus-lancaster",
   "metadata": {},
   "source": [
    "**Regression Plots**\n",
    "---"
   ]
  },
  {
   "cell_type": "markdown",
   "id": "alike-pierce",
   "metadata": {},
   "source": [
    "---"
   ]
  },
  {
   "cell_type": "code",
   "execution_count": null,
   "id": "stunning-congo",
   "metadata": {},
   "outputs": [],
   "source": [
    "project_functions.plotAvC(df)"
   ]
  },
  {
   "cell_type": "markdown",
   "id": "eligible-alpha",
   "metadata": {},
   "source": [
    "Regression plot for whole population"
   ]
  },
  {
   "cell_type": "code",
   "execution_count": null,
   "id": "bizarre-sunset",
   "metadata": {},
   "outputs": [],
   "source": [
    "project_functions.plotAvC(dfh)"
   ]
  },
  {
   "cell_type": "markdown",
   "id": "industrial-carbon",
   "metadata": {},
   "source": [
    "Regression plot for healthy indivduals"
   ]
  },
  {
   "cell_type": "code",
   "execution_count": null,
   "id": "meaningful-welding",
   "metadata": {},
   "outputs": [],
   "source": [
    "project_functions.plotAvC(dfun)"
   ]
  },
  {
   "cell_type": "markdown",
   "id": "continental-enough",
   "metadata": {},
   "source": [
    "Regression plot for unhelathy individuals"
   ]
  },
  {
   "cell_type": "markdown",
   "id": "distinguished-newsletter",
   "metadata": {},
   "source": [
    "from a quick look we can clearly tell from the regression line that having a unhealthy habit leads to on average a higher charge at each age with only the outliers of the healthy individuals coming close to the average of the unhealthy ones.This is fairly ordinary as more unhealthy habits require more health check uos etc.However on closer inspection we see that in this unhealthy group there is a lot of spread of data points with there looking like there is actually 3 populations in this dataset, this makes sense as the requirement of this dataset was to be smoker OR outside the healthy bmi range which results in 3 different datsets more on that later.\n",
    "\n",
    "For now we can look at how more likely a indiviudal is to have excess charges if they have a unhealthy trait with frequency ar counts."
   ]
  },
  {
   "cell_type": "markdown",
   "id": "hollow-deficit",
   "metadata": {},
   "source": [
    "**Bar plots**\n",
    "---"
   ]
  },
  {
   "cell_type": "markdown",
   "id": "secondary-testimony",
   "metadata": {},
   "source": [
    "---"
   ]
  },
  {
   "cell_type": "code",
   "execution_count": null,
   "id": "front-enzyme",
   "metadata": {},
   "outputs": [],
   "source": [
    "project_functions.BrPltECD(df)"
   ]
  },
  {
   "cell_type": "markdown",
   "id": "bottom-breakfast",
   "metadata": {},
   "source": [
    "Bar plot for whole population"
   ]
  },
  {
   "cell_type": "code",
   "execution_count": null,
   "id": "limiting-blame",
   "metadata": {},
   "outputs": [],
   "source": [
    "project_functions.BrPltECD(dfh)"
   ]
  },
  {
   "cell_type": "markdown",
   "id": "considered-occupation",
   "metadata": {},
   "source": [
    "frequency count of if an indivdual is to recieve excess charges in healthy population"
   ]
  },
  {
   "cell_type": "code",
   "execution_count": null,
   "id": "three-makeup",
   "metadata": {},
   "outputs": [],
   "source": [
    "project_functions.BrPltECD(dfun)"
   ]
  },
  {
   "cell_type": "markdown",
   "id": "voluntary-start",
   "metadata": {},
   "source": [
    "frequency count of if an indivdual is to recieve excess charges in unhealthy population"
   ]
  },
  {
   "cell_type": "markdown",
   "id": "adopted-arena",
   "metadata": {},
   "source": [
    "This further reinforces that a unhealthly life choice leads to a higher chance of an individual receiving a higher than average medical bill charge. We saw that there was outliers on the regression plots and we also couldnt see how much the data was spread for the healthy and unhealthy groups to better visualise this we can use box plots"
   ]
  },
  {
   "cell_type": "markdown",
   "id": "alive-cooper",
   "metadata": {},
   "source": [
    "**Box plots**\n",
    "---"
   ]
  },
  {
   "cell_type": "markdown",
   "id": "manufactured-wages",
   "metadata": {},
   "source": [
    "---"
   ]
  },
  {
   "cell_type": "code",
   "execution_count": null,
   "id": "clear-kenya",
   "metadata": {},
   "outputs": [],
   "source": [
    "project_functions.BoxPlt(df)"
   ]
  },
  {
   "cell_type": "markdown",
   "id": "authentic-provincial",
   "metadata": {},
   "source": [
    "This further shows us the spread of the unhealthy charges this is due to their being multiple distrubutions collected in there but from the analysis of healthy vs unhealthy it further shows how much less the people with a healthy life style pay less charges. We can draw many conclusions just from this graph, we can see that 75% of the healthy population pay less than 10,000 whilst only 50% of the unhealthy population pays below this figure."
   ]
  },
  {
   "cell_type": "markdown",
   "id": "heard-relief",
   "metadata": {},
   "source": [
    "**different Unhealthy categories**\n",
    "---"
   ]
  },
  {
   "cell_type": "markdown",
   "id": "caroline-profession",
   "metadata": {},
   "source": [
    "---"
   ]
  },
  {
   "cell_type": "markdown",
   "id": "concerned-raising",
   "metadata": {},
   "source": [
    "We mentioned earlier how in the unhelathy regression plot there seemed to be 3 different distributions now lets look at these in further depth and how they effect the charges, the 3 categories for this are under bmi,over bmi and smokers. First lets create data frames for each of these categories with only one variable per person"
   ]
  },
  {
   "cell_type": "code",
   "execution_count": null,
   "id": "first-quarter",
   "metadata": {},
   "outputs": [],
   "source": [
    "dfs=project_functions.smoker(url)\n",
    "dfs"
   ]
  },
  {
   "cell_type": "markdown",
   "id": "standard-discretion",
   "metadata": {},
   "source": [
    "Data frame for smokers only"
   ]
  },
  {
   "cell_type": "code",
   "execution_count": null,
   "id": "impressed-engagement",
   "metadata": {},
   "outputs": [],
   "source": [
    "dfob=project_functions.overBmi(url)\n",
    "dfob"
   ]
  },
  {
   "cell_type": "markdown",
   "id": "human-literacy",
   "metadata": {},
   "source": [
    "Data frame for over average bmi"
   ]
  },
  {
   "cell_type": "code",
   "execution_count": null,
   "id": "fluid-bubble",
   "metadata": {},
   "outputs": [],
   "source": [
    "dfub=project_functions.underBmi(url)\n",
    "dfub"
   ]
  },
  {
   "cell_type": "markdown",
   "id": "adapted-niagara",
   "metadata": {},
   "source": [
    "Dataframe for under average bmi"
   ]
  },
  {
   "cell_type": "markdown",
   "id": "square-treasurer",
   "metadata": {},
   "source": [
    "**Regression Plots**\n",
    "---"
   ]
  },
  {
   "cell_type": "code",
   "execution_count": null,
   "id": "legendary-television",
   "metadata": {},
   "outputs": [],
   "source": [
    "project_functions.plotAvC(dfs)"
   ]
  },
  {
   "cell_type": "markdown",
   "id": "historical-phase",
   "metadata": {},
   "source": [
    "Regression plot for smokers only\n",
    "\n",
    "We see here that the smokers at the least pay around 14,000 this is larger than the average charge for all patients, this suggests that the leading factor in large charges is smoking"
   ]
  },
  {
   "cell_type": "code",
   "execution_count": null,
   "id": "saved-benchmark",
   "metadata": {},
   "outputs": [],
   "source": [
    "project_functions.plotAvC(dfob)"
   ]
  },
  {
   "cell_type": "markdown",
   "id": "cellular-copying",
   "metadata": {},
   "source": [
    "Regression plot for over weight people\n",
    "\n",
    "Here is where we see the majority of our population and this looks very similar to the regression plot of healthy individuals with a similar frequency of outliers above the regression line to the healthy case this points towards elimination of over average bmi from being a leading factor in above average charges."
   ]
  },
  {
   "cell_type": "code",
   "execution_count": null,
   "id": "offshore-nepal",
   "metadata": {},
   "outputs": [],
   "source": [
    "project_functions.plotAvC(dfub)"
   ]
  },
  {
   "cell_type": "markdown",
   "id": "rotary-extra",
   "metadata": {},
   "source": [
    "Regression plot for underweight people only\n",
    "\n",
    "This regression plot actually shows a under average bmi leads towards a much lower charge per age as the lowest charge is around 2000 whilst the maxium is only around 13,000, however this is a very small population compared to the other cases of only 14 so we cannot say this is for certain but thsi evidence combined with the over average bmi helps eliminate bmi being a leading cause in excess medical charges"
   ]
  },
  {
   "cell_type": "markdown",
   "id": "tough-crisis",
   "metadata": {},
   "source": [
    "These regression plots mostly show that the smokers have a large variety in the charges at each age and that bmi actually does not have too much of effect on the charges at each age and that a lower bmi actually looks like it causes a lower charge at each age group."
   ]
  },
  {
   "cell_type": "markdown",
   "id": "classified-scottish",
   "metadata": {},
   "source": [
    "**Bar Plots**\n",
    "---"
   ]
  },
  {
   "cell_type": "markdown",
   "id": "white-qatar",
   "metadata": {},
   "source": [
    "---"
   ]
  },
  {
   "cell_type": "code",
   "execution_count": null,
   "id": "judicial-marriage",
   "metadata": {},
   "outputs": [],
   "source": [
    "project_functions.BrPltECD(dfs)"
   ]
  },
  {
   "cell_type": "markdown",
   "id": "dressed-customer",
   "metadata": {},
   "source": [
    "Bar plot for smokers only\n",
    "\n",
    "This further shows that smoking is a leading factor in excess medical charges as from a respectiable sample size we've shown that everyone who smokes will have excess charges."
   ]
  },
  {
   "cell_type": "code",
   "execution_count": null,
   "id": "threatened-moisture",
   "metadata": {},
   "outputs": [],
   "source": [
    "project_functions.BrPltECD(dfob)"
   ]
  },
  {
   "cell_type": "markdown",
   "id": "molecular-pavilion",
   "metadata": {},
   "source": [
    "Bar plot for over weight people only\n",
    "\n",
    "Here we see that over weight people are more likely to have excess charges as compared to healthy people as they appear to be charged excess charges around 0.15 where as healthy people around around 0.1. This shows that having a over average bmi leads towards a higher chance of being charged more than average costs this is further backed up as this population was quite large so it can be used to draw a better conclusion, there was some outliers but we can compare those with bar plots later."
   ]
  },
  {
   "cell_type": "code",
   "execution_count": null,
   "id": "usual-justice",
   "metadata": {},
   "outputs": [],
   "source": [
    "project_functions.BrPltECD(dfub)"
   ]
  },
  {
   "cell_type": "markdown",
   "id": "finnish-celebrity",
   "metadata": {},
   "source": [
    "Bar plot for under weight people only\n",
    "\n",
    "Here we see something interesting in that under weight people only get charged under the average charges. This is interesting but could be down to the small sample size of this population because of this i wont draw a conclusion that a lower bmi leads to lower medical fees but it can be used to rule it out in a leading factor for higher fees."
   ]
  },
  {
   "cell_type": "markdown",
   "id": "freelance-russell",
   "metadata": {},
   "source": [
    "**Box Plots**\n",
    "---"
   ]
  },
  {
   "cell_type": "markdown",
   "id": "parliamentary-carrier",
   "metadata": {},
   "source": [
    "---"
   ]
  },
  {
   "cell_type": "code",
   "execution_count": null,
   "id": "appointed-sudan",
   "metadata": {},
   "outputs": [],
   "source": [
    "project_functions.BoxPltob(df)"
   ]
  },
  {
   "cell_type": "markdown",
   "id": "grave-decimal",
   "metadata": {},
   "source": [
    "Box plot of not over weight vs over weight\n",
    "\n",
    "Here we can see the over bmi population has a similar spread copared to healthy bmi but the over bmi is shifted upwards by a slight amount, we also see the over bmi has more outliers but this is expected due to a larger population size. This larger population size for over bmi could be due to the increasing obesity crisis in America thus more people are likely to be overweight as this is more normal this could be the reason that the frequency wasnt much higher for this group as its more likely to shift the mean of the dataset. So the higher frequency of excess charges and the more outliers in this case point towards the over bmi population having a larger medical charge on average as the outliers skew the mean thus it isnt a true representation of the mean which would need more investitgation."
   ]
  },
  {
   "cell_type": "code",
   "execution_count": null,
   "id": "official-foster",
   "metadata": {},
   "outputs": [],
   "source": [
    "project_functions.BoxPltub(df)"
   ]
  },
  {
   "cell_type": "markdown",
   "id": "monthly-tissue",
   "metadata": {},
   "source": [
    "Box plot of not under weight vs under weight\n",
    "\n",
    "Again we see that the average costs for under bmi is lower and the spread of the data seemes to be the same as the healthy case, there are no outliers in this under bmi population so the mean is more representative of the population."
   ]
  },
  {
   "cell_type": "code",
   "execution_count": null,
   "id": "organized-short",
   "metadata": {},
   "outputs": [],
   "source": [
    "project_functions.BoxPlts(df)"
   ]
  },
  {
   "cell_type": "markdown",
   "id": "saving-richardson",
   "metadata": {},
   "source": [
    "Box plot of non smokers vs smokers\n",
    "\n",
    "The smoker population spread is clearly much larger and higher than the healthy population, we also see no outliers in this case so this spread is a good representation of the whole smoker population. It's obvious looking at this and the previous examples that smoking is the dominate factor in higher medical fees"
   ]
  },
  {
   "cell_type": "markdown",
   "id": "proof-syntax",
   "metadata": {},
   "source": [
    "From the previous plots we saw that bmi doesnt have too much of an influence in charges, and in fact a lower bmi looked to cause lower fees but the population was too small to draw concrete conclusions from, but in the over bmi case we could look at the higher bmi which would be closer to the obese cases and would look at more extreme cases from the average population. From this we also saw that smoking was the dominant factor for the higher fees which we will investigate some more."
   ]
  },
  {
   "cell_type": "markdown",
   "id": "close-religious",
   "metadata": {},
   "source": [
    "**Smokers**\n",
    "---"
   ]
  },
  {
   "cell_type": "markdown",
   "id": "bored-night",
   "metadata": {},
   "source": [
    "---"
   ]
  },
  {
   "cell_type": "markdown",
   "id": "responsible-source",
   "metadata": {},
   "source": [
    "We saw from the previous analysis that isolating only idividuals who only smoked showed a trend of excessive medical charges now I want to look at how people who smoke and have different bmi differ with their medical charges"
   ]
  },
  {
   "cell_type": "code",
   "execution_count": null,
   "id": "monthly-browse",
   "metadata": {},
   "outputs": [],
   "source": [
    "dfas=project_functions.allsmoker(url)\n",
    "dfas"
   ]
  },
  {
   "cell_type": "markdown",
   "id": "specified-sandwich",
   "metadata": {},
   "source": [
    "**Regression Plots**\n",
    "---"
   ]
  },
  {
   "cell_type": "markdown",
   "id": "automatic-mainstream",
   "metadata": {},
   "source": [
    "---"
   ]
  },
  {
   "cell_type": "code",
   "execution_count": null,
   "id": "contrary-senator",
   "metadata": {},
   "outputs": [],
   "source": [
    "project_functions.plotAvC(dfas)"
   ]
  },
  {
   "cell_type": "markdown",
   "id": "spectacular-professor",
   "metadata": {},
   "source": [
    "**Bar Plots**\n",
    "---"
   ]
  },
  {
   "cell_type": "markdown",
   "id": "electoral-athens",
   "metadata": {},
   "source": [
    "---"
   ]
  },
  {
   "cell_type": "code",
   "execution_count": null,
   "id": "chief-sunglasses",
   "metadata": {},
   "outputs": [],
   "source": [
    "project_functions.BrPltECD(dfas)"
   ]
  },
  {
   "cell_type": "markdown",
   "id": "peripheral-reality",
   "metadata": {},
   "source": [
    "**Box Plot**\n",
    "---"
   ]
  },
  {
   "cell_type": "code",
   "execution_count": null,
   "id": "surprised-touch",
   "metadata": {},
   "outputs": [],
   "source": [
    "project_functions.BoxPlts(dfas)"
   ]
  },
  {
   "cell_type": "markdown",
   "id": "stone-departure",
   "metadata": {},
   "source": [
    "Looking at these  plots its clear to see that even when we extend the smokers case to all the people that do smoke that excess charges is always common between the population. Now we have a larger population we can draw a more concrete conclusion, the regression plot shows us that most of the above average charges are associated with smokers this is further backed up by the bar plot which shows almost all of the population of smokers have above average charges, the final nail for the argument that smoking is the leading factor in higher than average charges is the box plot which shows no outliers and the smallest fee being only just below the excessive charges threshold."
   ]
  },
  {
   "cell_type": "markdown",
   "id": "tropical-overall",
   "metadata": {},
   "source": [
    "**Obese**\n",
    "---"
   ]
  },
  {
   "cell_type": "markdown",
   "id": "demonstrated-grass",
   "metadata": {},
   "source": [
    "---"
   ]
  },
  {
   "cell_type": "markdown",
   "id": "sporting-wrong",
   "metadata": {},
   "source": [
    "Now i want to look at how extreme obeseity effects the charges, this is classified as a value of 40 or higher"
   ]
  },
  {
   "cell_type": "code",
   "execution_count": null,
   "id": "selected-worthy",
   "metadata": {},
   "outputs": [],
   "source": [
    "dfobs=project_functions.obese(url)\n",
    "dfobs"
   ]
  },
  {
   "cell_type": "markdown",
   "id": "suitable-washington",
   "metadata": {},
   "source": [
    "**Regression Plots**\n",
    "---"
   ]
  },
  {
   "cell_type": "markdown",
   "id": "premier-reality",
   "metadata": {},
   "source": [
    "---"
   ]
  },
  {
   "cell_type": "code",
   "execution_count": null,
   "id": "administrative-pantyhose",
   "metadata": {},
   "outputs": [],
   "source": [
    "project_functions.plotAvC(dfobs)"
   ]
  },
  {
   "cell_type": "markdown",
   "id": "common-payday",
   "metadata": {},
   "source": [
    "**Bar plots**\n",
    "---"
   ]
  },
  {
   "cell_type": "markdown",
   "id": "fitting-medium",
   "metadata": {},
   "source": [
    "---"
   ]
  },
  {
   "cell_type": "code",
   "execution_count": null,
   "id": "northern-thunder",
   "metadata": {},
   "outputs": [],
   "source": [
    "project_functions.BrPltECD(dfobs)"
   ]
  },
  {
   "cell_type": "markdown",
   "id": "related-macintosh",
   "metadata": {},
   "source": [
    "**Box plots**\n",
    "---"
   ]
  },
  {
   "cell_type": "code",
   "execution_count": null,
   "id": "specific-forwarding",
   "metadata": {},
   "outputs": [],
   "source": [
    "project_functions.BoxPltob(dfobs)"
   ]
  },
  {
   "cell_type": "markdown",
   "id": "speaking-surrey",
   "metadata": {},
   "source": [
    "This is quite suprising in that the extrme case of obesity shows to have similar distributions to the healthy population with the frequency plot and box being almost similar and the regression plot showing nothing out of the ordinary for our other plots.This shows that even extreme obesity doesnt effect medical charges to a large degree, this is suprising as I thought this would of had a substancial impact on charges.\n",
    "\n",
    "All of this taken into acount we can say with confidence that the leading factor in excessive charges is smoking and not bmi of an individual."
   ]
  }
 ],
 "metadata": {
  "kernelspec": {
   "display_name": "Python 3",
   "language": "python",
   "name": "python3"
  },
  "language_info": {
   "codemirror_mode": {
    "name": "ipython",
    "version": 3
   },
   "file_extension": ".py",
   "mimetype": "text/x-python",
   "name": "python",
   "nbconvert_exporter": "python",
   "pygments_lexer": "ipython3",
   "version": "3.8.8"
  }
 },
 "nbformat": 4,
 "nbformat_minor": 5
}
